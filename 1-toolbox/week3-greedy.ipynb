{
 "cells": [
  {
   "cell_type": "markdown",
   "metadata": {},
   "source": [
    "Greedy"
   ]
  },
  {
   "cell_type": "markdown",
   "metadata": {},
   "source": [
    "Un probelma se resuelve con greedy algoritmo  si se quiere optimizar algo. Se hace un primer movimiento y luego queda un subproblema del mismo tipo al que se le puede aplicar este movimiento. \n",
    "El primer movimiento es llamado safe si este primer movimiento es consistente con una solucion optima. \n",
    "\n",
    "La estrategia es empezar con un problema y hacer un greedy choice. Luego hay que probar que este movimiento es safe. \n",
    "Una vez que sabemos que es un safe move, el problema se reduce a un subproblema equivalente al que le podemos aplicar el mismo safe step"
   ]
  },
  {
   "cell_type": "markdown",
   "metadata": {},
   "source": [
    "Organizar ninos en grupos. Queremos ordenarlos en la menor cantidad de grupos tal que la diferencia de edad entre dos ninos en un mismo grupo es a lo sumo 1"
   ]
  },
  {
   "cell_type": "code",
   "execution_count": 3,
   "metadata": {},
   "outputs": [
    {
     "data": {
      "text/plain": [
       "[[1, 2], [3, 4], [4.3, 5.3], [5.4, 6.4], [7, 8]]"
      ]
     },
     "execution_count": 3,
     "metadata": {},
     "output_type": "execute_result"
    }
   ],
   "source": [
    "#Algoritmo eficiente \n",
    "#Pensamos en los ninos como puntos en la recta numerica y cadagrupo es u\n",
    "#un segmento de longitud 1. Buscamos la cubierta mas eficiente con est\n",
    "#estos segmentos. \n",
    "\n",
    "#Greedy move: Cubrir el punto mas a la izquiera con un segmento que empiece\n",
    "# en dicho punto a la izquierda. \n",
    "#Para probar que es un save move, hay que probar que toda solucion es compatible\n",
    "# con esta dolucion. \n",
    "#Dem: Digamos que encontramos una solucion optima al problema cualquiera\n",
    "# Entonces podemos recorrer el primer segmento de manera que empieza\n",
    "# en el primer punto y ahora es un solucion compatible con nuestro movimiento. \n",
    "#Por tanto, nuestro greedy move es save\n",
    "\n",
    "\n",
    "#dado un array sorted\n",
    "#encontrar el cover unitario de los puntos:\n",
    "def pointscover(arr):\n",
    "    n = len(arr)\n",
    "    #R va a almacenar los intervalos unitarios\n",
    "    R =[]\n",
    "    i = 0\n",
    "    while i < n:\n",
    "        # hacemos un intervalo que empiece en arr[i] y unitario\n",
    "        l,r = [arr[i],arr[i]+1]\n",
    "        #agregamos el intervalo a la lista\n",
    "        R.append([l,r])\n",
    "        # sumamos 1 a i\n",
    "        i = i+1\n",
    "        #VAmos aumentando el indice de i para saltarnos los elementos\n",
    "        #que ya estan cubiertos por el unitario\n",
    "        while i < n and arr[i] <= r:\n",
    "            i = i+1\n",
    "    return(R)\n",
    "\n",
    "    \n",
    "pointscover([1,2,3,4,4.3,5.4,5.5,6,6.1,6.4,7])\n",
    "    "
   ]
  },
  {
   "cell_type": "markdown",
   "metadata": {},
   "source": [
    "Fractional Knapsack. \n",
    "Planeamos un dia de campo. Podemos llevar 15 kg de comida \n",
    "Tenemos comidas con pesos w1,w2,w3,.. y con valores energeticos v1,v2,v3,...\n",
    "Queremos maximizar el valor para 15 kg.  \n",
    "Greedy: Tomar la mayor cantidad del objeto mas denso. \n",
    "Probar que es un safe move: Digamos que tenemos una solucion ya optima tal que no necesariamente se usa la mayor cantidad del mas denso. Entonces, podemos agregar mas materia densa quitando algunos de los elementos menos densos, lo cual nos va a dar una mejor solucion\n",
    "\n"
   ]
  },
  {
   "cell_type": "markdown",
   "metadata": {},
   "source": [
    "1. Maximo loot. Un algoritmo para maximum knapsack. \n",
    "Nos dan como input varios pesos y valores de los objetos. Encontrrar el maximo dinero que nos podemos llevar\n"
   ]
  },
  {
   "cell_type": "code",
   "execution_count": 21,
   "metadata": {},
   "outputs": [
    {
     "name": "stdout",
     "output_type": "stream",
     "text": [
      "1 10\n",
      "500 30\n",
      "166.66666666666669\n"
     ]
    }
   ],
   "source": [
    "# input: numero de objetos, peso max\n",
    "# Los pesos y valores\n",
    "\n",
    "#Creamos una clase cuyos objetos son los objetos que podemos robar\n",
    "class objetos:\n",
    "    def __init__(self, peso, valor):\n",
    "        #tienen propiedad de peso, valor y densidad de valor\n",
    "        self.peso = peso\n",
    "        self.valor = valor\n",
    "        self.dens = valor/peso\n",
    "    \n",
    "    #les podemos definir una funcion de orden    \n",
    "    def __lt__(self, other):\n",
    "        return self.dens <= other.dens\n",
    "    \n",
    "\n",
    "        \n",
    "        \n",
    "# tomamos la entrada de datos\n",
    "n , m = [int(x) for x in input().split()]\n",
    "datos = []\n",
    "for i in range(n):\n",
    "    #Creamos la lista de objetos\n",
    "    v,p = [int(x) for x in input().split()]\n",
    "    datos.append(objetos(p,v))\n",
    "\n",
    "#Sortamos los datos( con el lt)\n",
    "datos.sort()\n",
    "\n",
    "# definimos la funcion knapp\n",
    "def knap(maxx, datos,n):\n",
    "    # Creamos un array con los valores que vamos a llevar\n",
    "    #y V es el valor que tenemos en la mochila\n",
    "    A = n * [0]\n",
    "    V = 0\n",
    "    #Vamos iterando sobre todos los objetos\n",
    "    for i in range(n):\n",
    "        # Si se nos acabo el espacio, returnamos y ya\n",
    "        if maxx == 0:\n",
    "            return(V,A)\n",
    "    \n",
    "        #Definimos como mejor el ultimo dato(el mas denso por el orden)\n",
    "        mejor = datos.pop()\n",
    "        # a es lo maximo que podemos llevarnos de ese elemento, dep\n",
    "        #dependiendo del espacio que nos queda\n",
    "        a = min(mejor.peso, maxx)\n",
    "        #Nuestro valor aumenta\n",
    "        V = V + a * mejor.dens\n",
    "        \n",
    "        #Metemos en la lista que ya nos llevamos a del i-esimo elemento \n",
    "        #(El i-esimo tomando el orden de menor a mayor)\n",
    "        A[i] = A[i] + a\n",
    "        # nuestra mochila pierde espacio\n",
    "        maxx = maxx-a\n",
    "    return(V,A)\n",
    "\n",
    "print(knap(m, datos,n)[0])\n"
   ]
  },
  {
   "cell_type": "markdown",
   "metadata": {},
   "source": [
    "3. Car Fuel: un coche puede recorrer m km con el tanque lleno. En el camino hay paradas en ciertas posiciones dadas. Cuantas paradas tenemos que hacer\n"
   ]
  },
  {
   "cell_type": "code",
   "execution_count": 13,
   "metadata": {},
   "outputs": [
    {
     "name": "stdout",
     "output_type": "stream",
     "text": [
      "950\n",
      "400\n",
      "4\n",
      "200 375 550 750\n",
      "2\n"
     ]
    }
   ],
   "source": [
    "#Input: Nos dan la distancia total d, la maxima distancai con tanque lleno m\n",
    "# el numero n de paradas y luego las paradas\n",
    "#outputear el numero de paradas o -1 si es imposible el viaje\n",
    "\n",
    "d = int(input())\n",
    "m = int(input())\n",
    "n = int(input())\n",
    "\n",
    "paradas = [int(x) for x in input().split()]\n",
    "paradas.append(d)\n",
    "#Necesitamos cubrir las paradas con intervalos de longitud m\n",
    "\n",
    "\n",
    "\n",
    "def recorre(paradas,m,d,n):\n",
    "    distancia = 0\n",
    "    stops = 0\n",
    "    i=0\n",
    "    while distancia<d:\n",
    "        posible = distancia + m\n",
    "        while paradas[i] < posible:\n",
    "            i = i+1\n",
    "            if i == n:\n",
    "                return(stops+1)\n",
    "            \n",
    "        i = i-1\n",
    "        if paradas[i]==distancia:\n",
    "            return(-1)\n",
    "        distancia = paradas[i]\n",
    "        stops += 1\n",
    "    return(stops)\n",
    "        \n",
    "        \n",
    "        \n",
    "            \n",
    "    \n",
    "    \n",
    "        \n",
    "        \n",
    "\n",
    "\n",
    "print(recorre(paradas,m,d,n))\n"
   ]
  },
  {
   "cell_type": "markdown",
   "metadata": {},
   "source": [
    "4. Maximum advertisemente revenue"
   ]
  },
  {
   "cell_type": "code",
   "execution_count": 15,
   "metadata": {},
   "outputs": [
    {
     "name": "stdout",
     "output_type": "stream",
     "text": [
      "1\n",
      "23\n",
      "39\n",
      "897\n"
     ]
    }
   ],
   "source": [
    "# Dados una lista a1,a2,...,an y una lisata b1,b2,...,bn \n",
    "# Encontrar la forma de multiplicarlos tal que el prod punto sea max\n",
    "#El greedy va a ser emparejar maximos con maximos\n",
    "\n",
    "n = int(input())\n",
    "ass = [int(x) for x in input().split()]\n",
    "bss = [int(x) for x in input().split()]\n",
    "\n",
    "ass.sort()\n",
    "bss.sort()\n",
    "suma=0\n",
    "for i in range(n):\n",
    "    suma = suma + ass[i] * bss[i]\n",
    "    \n",
    "print(suma)"
   ]
  },
  {
   "cell_type": "markdown",
   "metadata": {},
   "source": [
    "5. Collecting signatures"
   ]
  },
  {
   "cell_type": "code",
   "execution_count": 18,
   "metadata": {},
   "outputs": [
    {
     "name": "stdout",
     "output_type": "stream",
     "text": [
      "4\n",
      "4 7\n",
      "5 6\n",
      "1 3\n",
      "2 5\n",
      "2\n",
      "5 1\n"
     ]
    }
   ],
   "source": [
    "''' Dado un grupo de segmentos {[a_0,b_0] , ... [a_n-1, b_n-1]}\n",
    "encuentra el numero minimo de puntos tal que cada segmento trenga al menos un punto\n",
    "'' primer input es n luego cada input es del timpo a_i b_i '''\n",
    "'''outputear los punto tambien'''\n",
    "\n",
    "class Segmentos:\n",
    "        #difinimos la clase de segnmentos con atributo donde empieza y donde termina\n",
    "\tdef __init__(self, ini, fin):\n",
    "\t\tself.ini = ini\n",
    "\t\tself.fin = fin\n",
    "\n",
    "\n",
    "\n",
    "if __name__ == \"__main__\":\n",
    "    #crear elementos en segmentos con los min y max\n",
    "    n = int(input())\n",
    "    stack=[]\n",
    "    for i in range(n):\n",
    "        actinp = [int(x) for x in input().split()]\n",
    "        stack.append(Segmentos(actinp[0],actinp[1]))\n",
    "\n",
    "\n",
    "'''ordenamos los sementos de acuerdo a su punto inicial de mayor a menor'''\n",
    "stack.sort(key=lambda x:x.ini, reverse = True)\n",
    "\n",
    "#lista de puntos\n",
    "puntos=[]\n",
    "#el ultimo segmento intersectara a otro sii otro segmento tiene su final depues de\n",
    "#inicio del ultimo (y otro semento no puede estar contenido en el ultimo)\n",
    "\n",
    "#mientras halla segmentos:\n",
    "while len(stack) > 0:\n",
    "    #nos fijamos en el inicial del primer segmento (ultimo en orden)\n",
    "    best=stack[0].ini\n",
    "    #ah'i vamos a poner un punto\n",
    "    puntos.append(stack[0].ini)\n",
    "    i=0\n",
    "    while i < len(stack):\n",
    "        #checamos cuales son los segmentos cuyo fin se pasa del inicio del ultimo\n",
    "        #si lo hace, eliminamos dicho segmento (pues intersecta)\n",
    "        # y no sumamos 1 a i, pues eliminamos un elemento\n",
    "        #y entonces si sumaramos 1 a i nos saltariamos un elemento \n",
    "        if best <= stack[i].fin:\n",
    "            stack.pop(i)\n",
    "        #si no es un segmento que intersecta al ultimo, sumamos uno a i\n",
    "        else:\n",
    "            i=i+1\n",
    "            \n",
    "print(len(puntos))\n",
    "print(*puntos)\n",
    "\n"
   ]
  },
  {
   "cell_type": "markdown",
   "metadata": {},
   "source": [
    "6. Maximo numero de premios"
   ]
  },
  {
   "cell_type": "code",
   "execution_count": 25,
   "metadata": {},
   "outputs": [
    {
     "name": "stdout",
     "output_type": "stream",
     "text": [
      "125\n",
      "15\n",
      "1 2 3 4 5 6 7 8 9 10 11 12 13 14 20\n"
     ]
    }
   ],
   "source": [
    "#Nos dan como input un numero n. Queremos encontrar la forma de escribir este numero como\n",
    "#una suma de enteros positivos tal que se usen la  mayor cantidad de enteros distintos. \n",
    "# Entonces, si nos dan un numero n, nos conviene empezar con un premio de 1, luego uno de 2\n",
    "# luego uno de 3 y asi hasta que nos acerquemos lo mas que se puede a n \n",
    "\n",
    "import math\n",
    "n = int(input())\n",
    "guar = n\n",
    "\n",
    "#le vamos restando a n los primeros numeros siempre que se puede\n",
    "i=1\n",
    "lista=[]\n",
    "while n >= 0:\n",
    "    n= n-i\n",
    "    lista.append(i)\n",
    "    i = i+1\n",
    "    \n",
    "#por ejemplo, para n=8, nos queda 1,2,3,4. Sin embargo, nos pasamos, entonces hay que sacar el ultimo\n",
    "\n",
    "lista.pop()\n",
    "\n",
    "#Si ya suma al numero(que entonces el numero es triangular, ya acabamos)\n",
    "if sum(lista)==guar:\n",
    "    print(len(lista))\n",
    "    print(*lista)\n",
    "else:\n",
    "    lista.pop()\n",
    "    lista.append(guar - sum(lista))\n",
    "    print(len(lista))\n",
    "    print(*lista)\n",
    "    \n",
    "\n",
    "    \n"
   ]
  },
  {
   "cell_type": "markdown",
   "metadata": {},
   "source": [
    "7. Maximum Salary"
   ]
  },
  {
   "cell_type": "code",
   "execution_count": 54,
   "metadata": {},
   "outputs": [
    {
     "name": "stdout",
     "output_type": "stream",
     "text": [
      "10\n",
      "55 23 9 99 15 550 12 3 56 16\n",
      "9995655550323161512\n"
     ]
    }
   ],
   "source": [
    "#Nos dan a1, a2, ... ,an naturales. Y tenemos que encontrar la forma de concatenarlos\n",
    "#tal que el num concatenado sea maximo\n",
    "# Para ello, poner primero el numero mas grande y asi no sirve\n",
    "# Necesitamos redefinir el concepto de mas grande de una forma lexicografica\n",
    "\n",
    "\n",
    "import numpy as np\n",
    "\n",
    "#creamos una clase con los numeros, de tal forma que les definiremos un < distinto.\n",
    "#en el que compararemos a pares las posibles concatencaiones.\n",
    "#Decimos que a es mayor que b si  ab > ba\n",
    "\n",
    "class cosas:\n",
    "    def __init__(self,a):\n",
    "        self.val=a\n",
    "        \n",
    "    def conca(self,other):\n",
    "        return(int(str(self.val) + str(other.val)))\n",
    "    \n",
    "    def __lt__(self, other):\n",
    "        return(cosas.conca(self,other) < cosas.conca(other,self))\n",
    "        \n",
    "        \n",
    "        \n",
    "        \n",
    "        \n",
    "n = int(input())\n",
    "nums = [cosas(int(x)) for x in input().split()]\n",
    "\n",
    "nums.sort(reverse =True)\n",
    "\n",
    "res = ''\n",
    "\n",
    "for i in range(0,n):\n",
    "    res = res+ str(nums[i].val)\n",
    "\n",
    "print(int(res))           \n",
    "            \n",
    "            \n",
    "        \n",
    "\n",
    "        "
   ]
  },
  {
   "cell_type": "code",
   "execution_count": null,
   "metadata": {},
   "outputs": [],
   "source": []
  }
 ],
 "metadata": {
  "kernelspec": {
   "display_name": "Python 3",
   "language": "python",
   "name": "python3"
  },
  "language_info": {
   "codemirror_mode": {
    "name": "ipython",
    "version": 3
   },
   "file_extension": ".py",
   "mimetype": "text/x-python",
   "name": "python",
   "nbconvert_exporter": "python",
   "pygments_lexer": "ipython3",
   "version": "3.6.5"
  }
 },
 "nbformat": 4,
 "nbformat_minor": 2
}
