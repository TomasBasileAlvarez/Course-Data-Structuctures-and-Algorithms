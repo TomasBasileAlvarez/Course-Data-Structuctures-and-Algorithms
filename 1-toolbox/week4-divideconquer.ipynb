{
 "cells": [
  {
   "cell_type": "markdown",
   "metadata": {},
   "source": [
    "Divide and Conquer"
   ]
  },
  {
   "cell_type": "markdown",
   "metadata": {},
   "source": [
    "Consiste en romper un problema en varios subproblemas del mismo tipo y que son disjuntos y juntos forman todo el problema inicial. "
   ]
  },
  {
   "cell_type": "markdown",
   "metadata": {},
   "source": [
    "Consideramos el problema de buscar un elemento en un Array. "
   ]
  },
  {
   "cell_type": "markdown",
   "metadata": {},
   "source": [
    "Linear Search = Consiste en encontrar un elemento en un array. Para hacerlo, vamos buscando en uno por uno en los elementos del array. "
   ]
  },
  {
   "cell_type": "markdown",
   "metadata": {},
   "source": [
    "Binary Search: Consiste en buscar un elemento en un Array ordenado. Nos dan un array ordenado"
   ]
  },
  {
   "cell_type": "markdown",
   "metadata": {},
   "source": [
    "El Binary Search consiste en ir dividiendo el array en dos e ir buscnado ah'i"
   ]
  },
  {
   "cell_type": "code",
   "execution_count": 84,
   "metadata": {},
   "outputs": [
    {
     "name": "stdout",
     "output_type": "stream",
     "text": [
      "10\n"
     ]
    }
   ],
   "source": [
    "import math\n",
    "\n",
    "#Definimos la binarysearch entre dos extremos low, high de un array A para buscar una key\n",
    "def binarysearch(A,low,high,key):\n",
    "    # Si high < low, es porque ya terminamos de buscar y regresamos -1 (o podemos regresar low-1)\n",
    "    # para decir cual es el indice mas cercano\n",
    "    if high < low:\n",
    "        return -1\n",
    "    \n",
    "    # Definimos el punto medio\n",
    "    mid =int(math.floor(low+ (high-low)/2))\n",
    "    # Si el key esta en el punto medio, ya encontramos la solucion\n",
    "    if key == A[mid]:\n",
    "        return(mid)\n",
    "    # Si el key es menor al punto medio, buscamos ya solo en la mitad inferior\n",
    "    elif key < A[mid]:\n",
    "        return(binarysearch(A, low,mid-1,key))\n",
    "    #Si el key es mayor al punto medio, buscamos solo en la mitad superior.\n",
    "    else:\n",
    "        return(binarysearch(A,mid+1,high,key))\n",
    "    \n",
    "    \n",
    "A = [2,5,8,10,12,15,18,20,20,50,60]\n",
    "print(binarysearch(A,1,11,60))"
   ]
  },
  {
   "cell_type": "markdown",
   "metadata": {},
   "source": [
    "Multiplicacion de plinomios. Buscamos un programa que dados dos polinomios de mismo orden  (si son de distinto  orden, ponemos ceros) "
   ]
  },
  {
   "cell_type": "code",
   "execution_count": 16,
   "metadata": {},
   "outputs": [
    {
     "name": "stdout",
     "output_type": "stream",
     "text": [
      "[15, 13, 33, 9, 10]\n"
     ]
    }
   ],
   "source": [
    "#Algoritmo naive\n",
    "\n",
    "#A y B son los polinomios (listas de los coeficientes)\n",
    "#multiplica uno por uno como esperariamos\n",
    "def Multiply(A,B,n):\n",
    "    producto = (2*n-1) *[0]\n",
    "    for i in range(n):\n",
    "        for j in range(n):\n",
    "            producto[i+j] = producto[i+j] + A[i] * B[j]\n",
    "    return(producto)\n",
    "            \n",
    "print(Multiply([3,2,5],[5,1,2],3))"
   ]
  },
  {
   "cell_type": "markdown",
   "metadata": {},
   "source": [
    "Teorema Master: Es un teorema que nos ayuda a calcular el tiempo que tarda un problema de divide and conquer"
   ]
  },
  {
   "cell_type": "markdown",
   "metadata": {},
   "source": [
    "Sorting Problem: Ordenar una secuencia de elementos"
   ]
  },
  {
   "cell_type": "markdown",
   "metadata": {},
   "source": [
    "Selection Sort: "
   ]
  },
  {
   "cell_type": "code",
   "execution_count": 21,
   "metadata": {},
   "outputs": [
    {
     "name": "stdout",
     "output_type": "stream",
     "text": [
      "[1, 4, 5, 5, 7, 9, 11]\n"
     ]
    }
   ],
   "source": [
    "#Consiste en encontrar primer el minimo del array e intercambiarlo con el primer elemento del array.\n",
    "# Luego repetimos el procedimiento con el array de longitud n-1 formado por el resto. \n",
    "# Repetimos. \n",
    "\n",
    "def SelectSort(A,n):\n",
    "    # vamos loopeando i\n",
    "    for i in range(n):\n",
    "        minindex = i\n",
    "        # para cada j despues de i, buscamos el indice con menor key\n",
    "        for j in range(i+1, n):\n",
    "            if A[j] < A[minindex]:\n",
    "                minindex = j\n",
    "        # intercambiamos A[i] y A[minindex]\n",
    "        A[i] , A[minindex] = A[minindex] , A[i]\n",
    "    return(A)\n",
    "A = [1, 5 , 4 , 5 , 7 , 9 , 11]\n",
    "print(SelectSort(A, len(A)))\n",
    "\n",
    "# Este algoritmo toma un tiempo de 1+2+3+...+ n = (n^2 + n) / 2 = O(n^2) "
   ]
  },
  {
   "cell_type": "markdown",
   "metadata": {},
   "source": [
    "Merge Sort"
   ]
  },
  {
   "cell_type": "code",
   "execution_count": 68,
   "metadata": {},
   "outputs": [
    {
     "name": "stdout",
     "output_type": "stream",
     "text": [
      "[0.9606969021579927, 0.7785622581380022, 0.13388994544998722, 0.47680002327314364, 0.6681328982940908, 0.7302876408518343, 0.18758409846968827, 0.4615571173124131, 0.7165013685132098, 0.9354280740132829]\n",
      "\n",
      "\n",
      "[0.13388994544998722, 0.18758409846968827, 0.4615571173124131, 0.47680002327314364, 0.6681328982940908, 0.7165013685132098, 0.7302876408518343, 0.7785622581380022, 0.9354280740132829, 0.9606969021579927]\n"
     ]
    }
   ],
   "source": [
    "# Consiste en partir el array en dos partes y luego recursimos en estas dos partes para \n",
    "# sortearlas. Luego, vamos uniendo estos sub arrays que ya estan sorteados.\n",
    "import math\n",
    "from numpy import random\n",
    "\n",
    "def mergesort(A):\n",
    "    #Si A tiene un elemento, ya esta sorteado\n",
    "    n = len(A)\n",
    "    if  n ==1:\n",
    "        return(A)\n",
    "    #Sino, lo partimos en dos y sorteamos cada subarray\n",
    "    m = math.floor((n)/2)\n",
    "    \n",
    "    B = mergesort(A[0:m])\n",
    "    C = mergesort(A[m:n])\n",
    "    #Luefo juntamos ambos subarrays con merge\n",
    "    Afinal = Merge(B,C)\n",
    "    return(Afinal)\n",
    "\n",
    "def Merge(B,C):\n",
    "    #Merge\n",
    "    #B y C tya estan ordenados\n",
    "    p = len(B)\n",
    "    q = len(C)\n",
    "    #D sera el mergeado\n",
    "    D = []  \n",
    "    #Mientras B,C tengan elementos\n",
    "    while p > 0 and q> 0:\n",
    "        #Agarramos el primero de cada uno (que es el mas chico)\n",
    "        b = B[0]\n",
    "        c = C[0]\n",
    "        \n",
    "        #Si b es el chiquito, ponemos b en D y lo sacamos de B\n",
    "        if b <= c:\n",
    "            D.append(b)\n",
    "            B.remove(b)\n",
    "            p = p-1\n",
    "        else:\n",
    "            D.append(c)\n",
    "            C.remove(c)\n",
    "            q=q-1\n",
    "    #Seguimos hasta quedarnos sin elementos en algun B,C\n",
    "    #Luego agregamos el resto de los elementos del subaray que no este vacio \n",
    "    for i in B:\n",
    "        D.append(i)\n",
    "    for i in C:\n",
    "        D.append(i)\n",
    "        \n",
    "    return(D)\n",
    "A = [random.rand() for x in range(10)]\n",
    "print(A)\n",
    "print(\"\\n\")\n",
    "print(mergesort(A))\n",
    "\n",
    "#El merge sort toma un tiempo asimptotico O(n logn). Que resulta ser la cota minima\n",
    "# de los posibles tiempos asimptoticos de un sort. "
   ]
  },
  {
   "cell_type": "markdown",
   "metadata": {},
   "source": [
    "Quick Sort"
   ]
  },
  {
   "cell_type": "markdown",
   "metadata": {},
   "source": [
    "Es un algoritmo que toma en promedio un tiempo O(n log n) y es el mas tipico. Dado un array, tomamos el primer elemento y le llamamos pivote. Luego, ordenamos el array con todos los elementos menores del pivote de un lado y los mayores del lado derecho. Luego, cada uno de los subarrays de los dos lados los ordenamos con la msisma idea"
   ]
  },
  {
   "cell_type": "code",
   "execution_count": 75,
   "metadata": {},
   "outputs": [],
   "source": [
    "# Python program for implementation of Quicksort Sort \n",
    "  \n",
    "# This function takes last element as pivot, places \n",
    "# the pivot element at its correct position in sorted \n",
    "# array, and places all smaller (smaller than pivot) \n",
    "# to left of pivot and all greater elements to right \n",
    "# of pivot \n",
    "\n",
    "def partition(arr, low, high): \n",
    "    i = (low-1)         # index of smaller element \n",
    "    pivot = arr[high]     # pivot \n",
    "  \n",
    "    for j in range(low, high): \n",
    "  \n",
    "        # If current element is smaller than or \n",
    "        # equal to pivot \n",
    "        if arr[j] <= pivot: \n",
    "  \n",
    "            # increment index of smaller element \n",
    "            i = i+1\n",
    "            arr[i], arr[j] = arr[j], arr[i] \n",
    "  \n",
    "    arr[i+1], arr[high] = arr[high], arr[i+1] \n",
    "    return (i+1) \n",
    "  \n",
    "# The main function that implements QuickSort \n",
    "# arr[] --> Array to be sorted, \n",
    "# low  --> Starting index, \n",
    "# high  --> Ending index \n",
    "  \n",
    "# Function to do Quick sort \n",
    "  \n",
    "def quickSort(arr, low, high): \n",
    "    if len(arr) == 1: \n",
    "        return arr \n",
    "    if low < high: \n",
    "  \n",
    "        # pi is partitioning index, arr[p] is now \n",
    "        # at right place \n",
    "        pi = partition(arr, low, high) \n",
    "  \n",
    "        # Separately sort elements before \n",
    "        # partition and after partition \n",
    "        quickSort(arr, low, pi-1) \n",
    "        quickSort(arr, pi+1, high) \n",
    "  \n"
   ]
  },
  {
   "cell_type": "markdown",
   "metadata": {},
   "source": [
    "Ejercicios"
   ]
  },
  {
   "cell_type": "markdown",
   "metadata": {},
   "source": [
    "1. Binary Search\n"
   ]
  },
  {
   "cell_type": "code",
   "execution_count": 91,
   "metadata": {},
   "outputs": [
    {
     "name": "stdout",
     "output_type": "stream",
     "text": [
      "5 1 5 8 12 13\n",
      "5 8 1 23 1 13\n",
      "[2, 0, -1, 0, 4]\n"
     ]
    }
   ],
   "source": [
    "# Nos dan una secuencia a0 , ... , an-1 de elementos distintos ordenados.\n",
    "# Luego nos dan k elementos b0, b1, ..., bk-1 \n",
    "#Tenemos que dar como resultado el indice de los bi en la lista a (con -1 si no esta) \n",
    "\n",
    "import math\n",
    "\n",
    "\n",
    "ass = [int(x) for x in input().split()]\n",
    "bss = [int(x) for x in input().split()]\n",
    "\n",
    "n = ass[0]\n",
    "k = bss[0]\n",
    "ass.remove(n)\n",
    "bss.remove(k)\n",
    "\n",
    "#Definimos la binarysearch entre dos extremos low, high de un array A para buscar una key\n",
    "def binarysearch(A,low,high,key):\n",
    "    # Si high < low, es porque ya terminamos de buscar y regresamos -1 (o podemos regresar low-1)\n",
    "    # para decir cual es el indice mas cercano\n",
    "    if high < low:\n",
    "        return -1\n",
    "    \n",
    "    # Definimos el punto medio\n",
    "    mid =int(math.floor(low+ (high-low)/2))\n",
    "    # Si el key esta en el punto medio, ya encontramos la solucion\n",
    "    if key == A[mid]:\n",
    "        return(mid)\n",
    "    # Si el key es menor al punto medio, buscamos ya solo en la mitad inferior\n",
    "    elif key < A[mid]:\n",
    "        return(binarysearch(A, low,mid-1,key))\n",
    "    #Si el key es mayor al punto medio, buscamos solo en la mitad superior.\n",
    "    else:\n",
    "        return(binarysearch(A,mid+1,high,key))\n",
    "    \n",
    "res = []\n",
    "for b in bss:\n",
    "    res.append(binarysearch(ass,0,n-1,b))\n",
    "print(res)\n",
    "    \n",
    "    \n",
    "    "
   ]
  },
  {
   "cell_type": "markdown",
   "metadata": {},
   "source": [
    "2. Mayority Element"
   ]
  },
  {
   "cell_type": "code",
   "execution_count": 104,
   "metadata": {},
   "outputs": [
    {
     "name": "stdout",
     "output_type": "stream",
     "text": [
      "4\n",
      "1 2 3 1\n",
      "0\n"
     ]
    }
   ],
   "source": [
    "'''majority element'''\n",
    "#Dada una secuencia a_1, ... ,a_n buscar si tiene un elemento que\n",
    "#aparece m'as de n/2 veces\n",
    "# usar divide and conquer\n",
    "# input: n a_0, ... ,a_n-1\n",
    "# 1 si tiene un elemento majority, 0 sino\n",
    "from math import*\n",
    "\n",
    "\n",
    "n=int(input())\n",
    "elem = [int(x) for x in input().split()]\n",
    "\n",
    "#primero los ordena y checa la mediana (que es el prospecto a ser maj)\n",
    "def majorityElement(nums):\n",
    "        nums.sort()\n",
    "        return nums[len(nums)//2]\n",
    "\n",
    "#luego cuenta que el num de veces que aparece mej sea > que la mitad\n",
    "mej = majorityElement(elem)\n",
    "count = 0\n",
    "for i in range(n):\n",
    "    if elem[i] == mej:\n",
    "        count = count +1\n",
    "\n",
    "if count > n/2:\n",
    "    print(1)\n",
    "\n",
    "else:\n",
    "    print(0)"
   ]
  },
  {
   "cell_type": "markdown",
   "metadata": {},
   "source": [
    "3. Iproving Quick Sort"
   ]
  },
  {
   "cell_type": "code",
   "execution_count": 105,
   "metadata": {},
   "outputs": [
    {
     "name": "stdout",
     "output_type": "stream",
     "text": [
      "4\n",
      "4 5 4 6\n",
      "4 4 5 6 "
     ]
    }
   ],
   "source": [
    "#Hay que mejorar el Quicksort para que funcione tambein con listas con varios elementos repetidos\n",
    "# Para ello, partimos en 3 secciones, una con los que son iguales al pivote\n",
    "\n",
    "\n",
    "#Improving quicksort\n",
    "#input: n y luego a1, ... an\n",
    "# Hacer un quicksort pero que parta la cadena en 3 para que considere\n",
    "#elementos iguales y no sea lento en ellos\n",
    "import random\n",
    "\n",
    "def partition3(a, L, r):\n",
    "    #x es el primer elemento.\n",
    "    x = a[L]\n",
    "    contador = 0\n",
    "\n",
    "    #Para los puntos a la derecha de x:\n",
    "    for i in range(L+1,r+1):\n",
    "        #A los que sean iguales a x los pone a la derecha de x\n",
    "        #Lo de contador es para no reemplazar un valor que ya esta al lado de x\n",
    "        #Entonces luego de esto queda x,...,x,a,b,c....\n",
    "        if a[i] == x:\n",
    "            contador = contador +1\n",
    "            a[i], a[L+contador] = a[L+contador], a[i]\n",
    "    \n",
    "    return (contador)\n",
    "\n",
    "def partition2(a, L, r):\n",
    "    # toma el valor de a[L] que es con respecto a quien vamos a partir\n",
    "    x = a[L]\n",
    "    count = 0\n",
    "    #desde el siguiente elemento hasta el r-esimo\n",
    "    for i in range(L + 1, r + 1):\n",
    "        #al primer elemnento menor o igual que x, lo pone a la derecha de x, \n",
    "        #al siguiente lo pone un paso m'as a la derecha y asi\n",
    "        #para esto, vamos contando cuantas veces hemos hecho esto.\n",
    "        #entonces, queda x, puros elementos menor o iguales que x, puros elementos\n",
    "        #mayores que x\n",
    "        if a[i] <= x:\n",
    "            count = count + 1\n",
    "            a[i], a[L+count] = a[L+count], a[i]\n",
    "        \n",
    "    #al final, pone a x en medio: puros elementos menor o iguales que x,\n",
    "    #x, puros elementos mayores que x\n",
    "    #a[L], a[L+count] = a[L+count], a[L]\n",
    "    #Pero como antes habiamos aplicado particion3, los iguales a x quedan juntitos\n",
    "        \n",
    "    #regresa el numero de intercambios que hubo:\n",
    "    #recordamos que desde L hasta L+m-1 estamos a la izquierda de z y por tanto\n",
    "    #son menores, de L+m+1 a r estamos a la derecha y por tanto son mayores\n",
    "    return (count)\n",
    "\n",
    "\n",
    "def randomized_quick_sort(a, L, r):\n",
    "    if L >= r:\n",
    "        return\n",
    "    #Agarra un elemento al azar y lo pone hasta la izquierda\n",
    "    k = random.randint(L, r)\n",
    "    a[L], a[k] = a[k], a[L]\n",
    "\n",
    "    #Al aplicar particion3, nos quedan los elementos pero con todos los elementos\n",
    "    #iguales a a[L] al lado de a[L]\n",
    "    p = partition3(a,L,r)\n",
    "\n",
    "    #Luego hace la partition 2, la cual agarra todos los elementos\n",
    "    #menores que a[L] y los pone a la izquierda, a los demas a la derecha\n",
    "    m = partition2(a, L, r)\n",
    "\n",
    "    \n",
    "    for i in range (p+1):\n",
    "        a[L+i], a[L+m-i] = a[L+m-i] , a[L+i]\n",
    "\n",
    "\n",
    "    #Luego repetimos el proceso pero ahora en la parte de menores y en la de\n",
    "    #mayores por separado\n",
    "    #eventualmente, tendremos l=r y ahi se detiene.\n",
    "    randomized_quick_sort(a, L,L + m -p - 1);\n",
    "    randomized_quick_sort(a, L + m + 1, r);\n",
    "\n",
    "\n",
    "if __name__ == '__main__':\n",
    "    n = int(input())\n",
    "    a = [int(x) for x in input().split()]\n",
    "    randomized_quick_sort(a, 0, n - 1)\n",
    "    for x in a:\n",
    "        print(x, end=' ')\n"
   ]
  },
  {
   "cell_type": "markdown",
   "metadata": {},
   "source": [
    "4. Contar el numero de inversiones necesarias en un array para sortearlo. "
   ]
  },
  {
   "cell_type": "code",
   "execution_count": null,
   "metadata": {},
   "outputs": [],
   "source": [
    "def mergeSort(arr, n): \n",
    "    # A temp_arr is created to store \n",
    "    # sorted array in merge function \n",
    "    temp_arr = [0]*n \n",
    "    return _mergeSort(arr, temp_arr, 0, n-1) \n",
    "  \n",
    "# This Function will use MergeSort to count inversions \n",
    "  \n",
    "def _mergeSort(arr, temp_arr, left, right): \n",
    "  \n",
    "    # A variable inv_count is used to store \n",
    "    # inversion counts in each recursive call \n",
    "  \n",
    "    inv_count = 0\n",
    "  \n",
    "    # We will make a recursive call if and only if \n",
    "    # we have more than one elements \n",
    "  \n",
    "    if left < right: \n",
    "  \n",
    "        # mid is calculated to divide the array into two subarrays \n",
    "        # Floor division is must in case of python \n",
    "  \n",
    "        mid = (left + right)//2\n",
    "  \n",
    "        # It will calculate inversion counts in the left subarray \n",
    "  \n",
    "        inv_count += _mergeSort(arr, temp_arr, left, mid) \n",
    "  \n",
    "        # It will calculate inversion counts in right subarray \n",
    "  \n",
    "        inv_count += _mergeSort(arr, temp_arr, mid + 1, right) \n",
    "  \n",
    "        # It will merge two subarrays in a sorted subarray \n",
    "  \n",
    "        inv_count += merge(arr, temp_arr, left, mid, right) \n",
    "    return inv_count \n",
    "  \n",
    "# This function will merge two subarrays in a single sorted subarray \n",
    "def merge(arr, temp_arr, left, mid, right): \n",
    "    i = left     # Starting index of left subarray \n",
    "    j = mid + 1 # Starting index of right subarray \n",
    "    k = left     # Starting index of to be sorted subarray \n",
    "    inv_count = 0\n",
    "  \n",
    "    # Conditions are checked to make sure that i and j don't exceed their \n",
    "    # subarray limits. \n",
    "  \n",
    "    while i <= mid and j <= right: \n",
    "  \n",
    "        # There will be no inversion if arr[i] <= arr[j] \n",
    "  \n",
    "        if arr[i] <= arr[j]: \n",
    "            temp_arr[k] = arr[i] \n",
    "            k += 1\n",
    "            i += 1\n",
    "        else: \n",
    "            # Inversion will occur. \n",
    "            temp_arr[k] = arr[j] \n",
    "            inv_count += (mid-i + 1) \n",
    "            k += 1\n",
    "            j += 1\n",
    "  \n",
    "    # Copy the remaining elements of left subarray into temporary array \n",
    "    while i <= mid: \n",
    "        temp_arr[k] = arr[i] \n",
    "        k += 1\n",
    "        i += 1\n",
    "  \n",
    "    # Copy the remaining elements of right subarray into temporary array \n",
    "    while j <= right: \n",
    "        temp_arr[k] = arr[j] \n",
    "        k += 1\n",
    "        j += 1\n",
    "  \n",
    "    # Copy the sorted subarray into Original array \n",
    "    for loop_var in range(left, right + 1): \n",
    "        arr[loop_var] = temp_arr[loop_var] \n",
    "          \n",
    "    return inv_count \n",
    "  \n",
    "\n",
    "\n",
    "\n",
    "\n",
    "n = int(input())\n",
    "a = [int(x) for x in input().split()]\n",
    "print(mergeSort(a,n))\n"
   ]
  },
  {
   "cell_type": "code",
   "execution_count": null,
   "metadata": {},
   "outputs": [],
   "source": []
  }
 ],
 "metadata": {
  "kernelspec": {
   "display_name": "Python 3",
   "language": "python",
   "name": "python3"
  },
  "language_info": {
   "codemirror_mode": {
    "name": "ipython",
    "version": 3
   },
   "file_extension": ".py",
   "mimetype": "text/x-python",
   "name": "python",
   "nbconvert_exporter": "python",
   "pygments_lexer": "ipython3",
   "version": "3.6.5"
  }
 },
 "nbformat": 4,
 "nbformat_minor": 2
}
