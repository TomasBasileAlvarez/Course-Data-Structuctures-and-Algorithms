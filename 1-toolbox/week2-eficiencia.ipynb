{
 "cells": [
  {
   "cell_type": "markdown",
   "metadata": {},
   "source": [
    "Fibonacci Rapido"
   ]
  },
  {
   "cell_type": "code",
   "execution_count": 6,
   "metadata": {},
   "outputs": [
    {
     "name": "stdout",
     "output_type": "stream",
     "text": [
      "354224848179261915075\n"
     ]
    }
   ],
   "source": [
    "f= [0,1]\n",
    "\n",
    "n=100\n",
    "\n",
    "\n",
    "for i in range(2,n+1):\n",
    "    f.append(f[i-1]+f[i-2])\n",
    "print(f[n])\n",
    "\n",
    "#Este programa hace 2n+2 operaciones aproximadamente. Por lo que es rapido\n",
    "#La idea de la rapidez del algoritmo se basa en guardar en RAM los resul\n",
    "#tados parciales"
   ]
  },
  {
   "cell_type": "markdown",
   "metadata": {},
   "source": [
    "gcd naive y rapido"
   ]
  },
  {
   "cell_type": "code",
   "execution_count": 17,
   "metadata": {},
   "outputs": [
    {
     "name": "stdout",
     "output_type": "stream",
     "text": [
      "61232\n"
     ]
    }
   ],
   "source": [
    "def naivegdc(a,b):\n",
    "    best=0\n",
    "    for d in range(1,a+b):\n",
    "        if a %  d == 0 and b % d ==0:\n",
    "            best=d\n",
    "    return(best)\n",
    "#Hace a+b operaciones, que son muchas\n",
    "\n",
    "# hacemos uno mas eficiente\n",
    "def gdc(a,b):\n",
    "    # usamod que si a' = a%b, entonces gdc(a,b) = gdc(a',b)\n",
    "    #funciona recursivamente\n",
    "    if b == 0:\n",
    "        return(a)\n",
    "    ap = a % b\n",
    "    return(gdc(b,ap))\n",
    "\n",
    "print(gdc(3918848,1653264))\n",
    "#toma aprox log(ab) pasos\n",
    "\n",
    "\n",
    "\n"
   ]
  },
  {
   "cell_type": "markdown",
   "metadata": {},
   "source": [
    "1. Fibonacci: da el n-esimo numero de fibonacci"
   ]
  },
  {
   "cell_type": "code",
   "execution_count": 25,
   "metadata": {},
   "outputs": [
    {
     "name": "stdout",
     "output_type": "stream",
     "text": [
      "12222\n",
      "7896854443381089780395664369661564131161379149862240334357377885929603832479663408495214450717407108123288292511912133847888081771264812591390781886959088797310052052934099287199260160048109800752419579554949920868269302462127274740708213797199135256739324051197863837731228690741962565055083870601706127545236455513077192518978625873589257892013259832224506278080215648695469463717486161091528753142220170427617088483320620135709759920825733507679104462291012419379137376902960174867728934106080522660419188500956162901004263627474804642144255690566868189006412835189318817656570705000298543768289485730541234783033035916679750051751232842900454549300417867155940328600241943061680815834326856403795291813850328527585945673312457985588956433392190369948923985120743714026508387031429560283382134608254943002223615159621705803073135160679998378109020559087756400810228589928309383957916162494251218194794020919365140930448450773215778322868397510162377740348044071873022893254167357418737580914737713939700233296845575331169088557565192108681570233062587000696427233877136507651197184699688511928009175186518890570523180598691900833040861102372030606817753091370721266143215529435926679351400007715875485483224713875606930346999361619527090508392283830017905415624532190032421913407300189828287469865936926712995405794517223499822346667707771407887268789500534121816864079449442033039634310615959817433556247286123801694585413855899601732823712366560359915110711894305500039238117581720635301168905817422115835269677547624080979231037675113160146675102114313029591974770944806902214245708589875009135901542016510778872162458082409899883543393699530119590803374981814217398414190973611781238047984943140246210480573086463382443715203054042860636799005908718826185005932969752513306251491237048829650012073024909117474084430615224644134252430197058881068370948128978715964633187494417231297546845354018188950708045842901314624504603375533982919152551755831517328636062937185180620388177468143925992630987760651905580254089171416224480899613580927105464849302517717960982609280630208708406289321388489282980305324964459295566445163546941940280024640829652815770982589218696853378872844065782396747494381402935860822653777636738109286141533054886228786274851638226548829860545908832905966692377365529404132205887528238419018771104039199851454171206019515378084435780296114288855335104433393581719180097981919560553402467338126036179072676178578653634577108159352421191931036982002521174510229028950262297487366937184831728702535041942295789906979614095808936\n"
     ]
    }
   ],
   "source": [
    "n = int(input())\n",
    "\n",
    "f= [0,1]\n",
    "\n",
    "\n",
    "\n",
    "for i in range(2,n+1):\n",
    "    f.append(f[i-1]+f[i-2])\n",
    "print(f[n])\n"
   ]
  },
  {
   "cell_type": "markdown",
   "metadata": {},
   "source": [
    "2. Ultimo digito del n-esimo numero de fibo"
   ]
  },
  {
   "cell_type": "code",
   "execution_count": 27,
   "metadata": {},
   "outputs": [
    {
     "name": "stdout",
     "output_type": "stream",
     "text": [
      "12222\n",
      "6\n"
     ]
    }
   ],
   "source": [
    "n = int(input())\n",
    "\n",
    "f = [0,1]\n",
    "\n",
    "for i in range(2,n+1):\n",
    "    f.append((f[i-1]+f[i-2])%10) \n",
    "print(f[n])"
   ]
  },
  {
   "cell_type": "markdown",
   "metadata": {},
   "source": [
    "3. Gdc de dos numeros"
   ]
  },
  {
   "cell_type": "code",
   "execution_count": 29,
   "metadata": {},
   "outputs": [
    {
     "name": "stdout",
     "output_type": "stream",
     "text": [
      "28851538 1183019\n",
      "17657\n"
     ]
    }
   ],
   "source": [
    "a, b = [int(x) for x in input().split()]\n",
    "\n",
    "def gdc(a,b):\n",
    "    # usamod que si a' = a%b, entonces gdc(a,b) = gdc(a',b)\n",
    "    #funciona recursivamente\n",
    "    if b == 0:\n",
    "        return(a)\n",
    "    ap = a % b\n",
    "    return(gdc(b,ap))\n",
    "\n",
    "print(gdc(a,b))"
   ]
  },
  {
   "cell_type": "markdown",
   "metadata": {},
   "source": [
    "4. Lcm de dos numeros"
   ]
  },
  {
   "cell_type": "code",
   "execution_count": null,
   "metadata": {},
   "outputs": [],
   "source": [
    "#Usamos la propiedad ab = gdc(a,b) lcm(a,b)\n",
    "a, b = [int(x) for x in input().split()]\n",
    "def gdc(a,b):\n",
    "    # usamod que si a' = a%b, entonces gdc(a,b) = gdc(a',b)\n",
    "    #funciona recursivamente\n",
    "    if b == 0:\n",
    "        return(a)\n",
    "    ap = a % b\n",
    "    return(gdc(b,ap))\n",
    "def lcm(a,b):\n",
    "    return(int(a*b / gdc(a,b)))\n",
    "\n",
    "print(lcm(a,b))"
   ]
  },
  {
   "cell_type": "markdown",
   "metadata": {},
   "source": [
    "5. Fibonacci number again: Encuentra F[n] mod m para n muy grande"
   ]
  },
  {
   "cell_type": "code",
   "execution_count": 20,
   "metadata": {},
   "outputs": [
    {
     "name": "stdout",
     "output_type": "stream",
     "text": [
      "2816213588 239\n",
      "151\n"
     ]
    }
   ],
   "source": [
    "n, m = [int(x) for x in input().split()]\n",
    "\n",
    "#Los residuos F[n] % m  tienen un periodo de alguna longitud, por lo que \n",
    "# una vez que hace 0,1 de nuevo, se va a empezar a repetir\n",
    "\n",
    "#calculamos la longitud del periodo de pisano\n",
    "\n",
    "def pisano(m):\n",
    "    f = [0,1,1]\n",
    "    i=3\n",
    "    while f[i-2] != 0 or f[i-1]!= 1:\n",
    "        f.append((f[i-1]+f[i-2])% m)\n",
    "        i = i+1\n",
    "    return(i-2,f)\n",
    "        \n",
    "p,f=pisano(m)\n",
    "\n",
    "#Ya conocemos la longitud del periodo. Entonces f[n] % p = f[n%p]\n",
    "\n",
    "no = n% p\n",
    "print(f[no])"
   ]
  },
  {
   "cell_type": "markdown",
   "metadata": {},
   "source": [
    "6. Last digit of the sum of fibonacci\n",
    "Encuentra el ultimo digito de F0 + F1 + ... + Fn"
   ]
  },
  {
   "cell_type": "code",
   "execution_count": 51,
   "metadata": {},
   "outputs": [
    {
     "name": "stdout",
     "output_type": "stream",
     "text": [
      "3\n",
      "4\n"
     ]
    }
   ],
   "source": [
    "# En mod 10, los fibonacci tienen periodo de pisano 60\n",
    "# y cada periodo suma 280, es decir mod 10 es un 0\n",
    "n = int(input())+1\n",
    "\n",
    "#calculamos los 60 numeros de la serie de pisano de m=10\n",
    "f = [0,1,1]\n",
    "i=3\n",
    "while f[i-2] != 0 or f[i-1]!= 1:\n",
    "    f.append((f[i-1]+f[i-2])% 10)\n",
    "    i = i+1\n",
    "\n",
    "\n",
    "# vemos cuantos periodos completos de pisano forma n y lo que sobre\n",
    "periodos = n//60\n",
    "residuo = n % 60\n",
    "\n",
    "suma = 0*periodos + sum(f[:residuo])%10\n",
    "\n",
    "print(suma)"
   ]
  },
  {
   "cell_type": "code",
   "execution_count": null,
   "metadata": {},
   "outputs": [],
   "source": []
  }
 ],
 "metadata": {
  "kernelspec": {
   "display_name": "Python 3",
   "language": "python",
   "name": "python3"
  },
  "language_info": {
   "codemirror_mode": {
    "name": "ipython",
    "version": 3
   },
   "file_extension": ".py",
   "mimetype": "text/x-python",
   "name": "python",
   "nbconvert_exporter": "python",
   "pygments_lexer": "ipython3",
   "version": "3.6.5"
  }
 },
 "nbformat": 4,
 "nbformat_minor": 2
}
