{
 "cells": [
  {
   "cell_type": "markdown",
   "metadata": {},
   "source": [
    "1. Da la suma de dos entradas"
   ]
  },
  {
   "cell_type": "code",
   "execution_count": 3,
   "metadata": {},
   "outputs": [
    {
     "name": "stdout",
     "output_type": "stream",
     "text": [
      "4 5\n",
      "9\n"
     ]
    }
   ],
   "source": [
    "# python3\n",
    "\n",
    "\n",
    "def sum_of_digits(first_digit, second_digit):\n",
    "    return first_digit + second_digit\n",
    "if __name__ == '__main__':\n",
    "    a, b = map(int, input().split())\n",
    "    print(sum_of_digits(a, b))"
   ]
  },
  {
   "cell_type": "markdown",
   "metadata": {},
   "source": [
    "2.Maximum pairwise Product. Nos dan de input n enteros positivos y necesitamos encontrar su max producto a pares"
   ]
  },
  {
   "cell_type": "code",
   "execution_count": 8,
   "metadata": {},
   "outputs": [
    {
     "name": "stdout",
     "output_type": "stream",
     "text": [
      "5\n",
      "1 2 3 5 9\n",
      "45\n"
     ]
    }
   ],
   "source": [
    "\n",
    "#encontramos los dos enteros mas grandes\n",
    "def encontrardosmax(arr,n):\n",
    "    max1= 1\n",
    "    #registraremos el indice\n",
    "    index=0\n",
    "    #recorremos el arr\n",
    "    for i in range(n):\n",
    "        #si encontramos un max, lo guardamos y guardamos su indice\n",
    "        if arr[i] > max1:\n",
    "            max1=arr[i]\n",
    "            index=i\n",
    "  \n",
    "    \n",
    "    #buscamos un maximo de nuevo\n",
    "    max2=1\n",
    "    for i in range(n-1):\n",
    "        #si encontramos un max diferente del de antes,\n",
    "        #lo guardamos y guardamos su indice\n",
    "        if arr[i] > max2 & i != index:\n",
    "            max2=arr[i]\n",
    "            \n",
    "    return(max1*max2)\n",
    "    \n",
    "        \n",
    "if __name__ == '__main__':\n",
    "    n = int(input())\n",
    "    arr = [int(x) for x in input().split()]\n",
    "    print(encontrardosmax(arr,n))     \n",
    "        "
   ]
  },
  {
   "cell_type": "code",
   "execution_count": null,
   "metadata": {},
   "outputs": [],
   "source": []
  }
 ],
 "metadata": {
  "kernelspec": {
   "display_name": "Python 3",
   "language": "python",
   "name": "python3"
  },
  "language_info": {
   "codemirror_mode": {
    "name": "ipython",
    "version": 3
   },
   "file_extension": ".py",
   "mimetype": "text/x-python",
   "name": "python",
   "nbconvert_exporter": "python",
   "pygments_lexer": "ipython3",
   "version": "3.6.5"
  }
 },
 "nbformat": 4,
 "nbformat_minor": 2
}
